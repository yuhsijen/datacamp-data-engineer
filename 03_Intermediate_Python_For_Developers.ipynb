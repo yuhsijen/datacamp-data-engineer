{
 "cells": [
  {
   "cell_type": "code",
   "execution_count": 3,
   "id": "7f814afa-baba-4dc8-8d98-9cef06d2c22b",
   "metadata": {},
   "outputs": [
    {
     "name": "stdout",
     "output_type": "stream",
     "text": [
      "Help on built-in function len in module builtins:\n",
      "\n",
      "len(obj, /)\n",
      "    Return the number of items in a container.\n",
      "\n",
      "None\n"
     ]
    }
   ],
   "source": [
    "# Find out more about len()\n",
    "print(help(len))"
   ]
  },
  {
   "cell_type": "code",
   "execution_count": 6,
   "id": "cc60eb73-ddb4-4092-ada5-7c4d289e77c7",
   "metadata": {},
   "outputs": [
    {
     "name": "stdout",
     "output_type": "stream",
     "text": [
      "4\n",
      "9\n",
      "19\n"
     ]
    }
   ],
   "source": [
    "# course_ratings - a dictionary variable containing course names \n",
    "# as keys and average ratings as values.\n",
    "course_ratings = {\"LLM Concepts\": 4.7, \n",
    "                  \"Introduction to Data Pipelines\": 4.75, \n",
    "                  \"AI Ethics\": 4.62, \n",
    "                  \"Introduction to dbt\": 4.81}\n",
    "\n",
    "# Print the number of key-value pairs\n",
    "num_courses = len(course_ratings)\n",
    "print(num_courses)\n",
    "\n",
    "# course_completions - a list variable containing \n",
    "# the daily number of completions for an individual course.\n",
    "course_completions = [97, 83, 121, 205, 56, 174, 92, 117, 164]\n",
    "\n",
    "# Find the number of courses\n",
    "num_courses = len(course_completions)\n",
    "print(num_courses)\n",
    "\n",
    "# most_popular_course - a string variable \n",
    "# containing the name of a course.\n",
    "\n",
    "most_popular_course = \"Introduction to dbt\"\n",
    "\n",
    "# How many characters are in most_popular_course?\n",
    "title_length = len(most_popular_course)\n",
    "print(title_length)"
   ]
  },
  {
   "cell_type": "code",
   "execution_count": 7,
   "id": "c64d6e4b-07bc-4836-bc54-0f3e7727088c",
   "metadata": {},
   "outputs": [
    {
     "name": "stdout",
     "output_type": "stream",
     "text": [
      "abcdefghijklmnopqrstuvwxyz\n",
      "!\"#$%&'()*+,-./:;<=>?@[\\]^_`{|}~\n"
     ]
    }
   ],
   "source": [
    "# Import the string module\n",
    "import string\n",
    "\n",
    "# Print all ASCII lowercase characters\n",
    "print(string.ascii_lowercase)\n",
    "\n",
    "# Print all punctuation\n",
    "print(string.punctuation)"
   ]
  },
  {
   "cell_type": "code",
   "execution_count": 8,
   "id": "3fbd0e65-b9e2-43aa-a5c1-9b7b8d04acf5",
   "metadata": {},
   "outputs": [
    {
     "name": "stdout",
     "output_type": "stream",
     "text": [
      "<class 'datetime.date'>\n",
      "2024-01-19\n"
     ]
    }
   ],
   "source": [
    "# Import date from the datetime module\n",
    "from datetime import date\n",
    "\n",
    "# Create a variable called deadline\n",
    "deadline = date(2024, 1, 19)\n",
    "\n",
    "# Check the data type\n",
    "print(type(deadline))\n",
    "\n",
    "# Print the deadline\n",
    "print(deadline)"
   ]
  },
  {
   "cell_type": "code",
   "execution_count": 10,
   "id": "4791de1b-93e7-4ed8-8f85-fa2d3c13fd49",
   "metadata": {},
   "outputs": [
    {
     "name": "stdout",
     "output_type": "stream",
     "text": [
      "  user_id  order_value\n",
      "0    KM37       197.75\n",
      "1    PR19       208.21\n",
      "2    YU88       134.99\n"
     ]
    }
   ],
   "source": [
    "# Import pandas as pd\n",
    "import pandas as pd\n",
    "\n",
    "sales = {\"user_id\": [\"KM37\", \"PR19\", \"YU88\"],\n",
    "         \"order_value\": [197.75, 208.21, 134.99]}\n",
    "\n",
    "# Convert sales to a pandas DataFrame\n",
    "sales_df = pd.DataFrame(sales)\n",
    "\n",
    "# Preview the first five rows\n",
    "print(sales_df.head())"
   ]
  },
  {
   "cell_type": "code",
   "execution_count": 11,
   "id": "6b880b10-4dde-453f-a9aa-e5ff30405163",
   "metadata": {},
   "outputs": [
    {
     "name": "stdout",
     "output_type": "stream",
     "text": [
      "i_love_datacamp!\n"
     ]
    }
   ],
   "source": [
    "# Create the clean_string function\n",
    "def clean_string(text):\n",
    "  \n",
    "  # Replace spaces with underscores\n",
    "  no_spaces = text.replace(\" \", \"_\")\n",
    "  \n",
    "  # Convert to lowercase\n",
    "  clean_text = no_spaces.lower()\n",
    "  \n",
    "  # Return the final text as an output\n",
    "  return clean_text\n",
    "\n",
    "converted_text = clean_string(\"I LoVe dATaCamP!\")\n",
    "print(converted_text)"
   ]
  },
  {
   "cell_type": "code",
   "execution_count": 12,
   "id": "eff70890-dcb8-43da-92fe-d9fcae69a9be",
   "metadata": {},
   "outputs": [],
   "source": [
    "# Define clean_text\n",
    "def clean_text(text, remove=None):\n",
    "  if remove != None:\n",
    "    clean_text = text.replace(remove, \"\")\n",
    "    clean_text = clean_text.lower()\n",
    "    return clean_text\n",
    "  else:\n",
    "    clean_text = text.lower()\n",
    "    return clean_text"
   ]
  },
  {
   "cell_type": "code",
   "execution_count": null,
   "id": "6fff370b-e527-489e-889c-0fcb4f5bb4fb",
   "metadata": {},
   "outputs": [],
   "source": [
    "# Create the convert_data_structure function\n",
    "def convert_data_structure(data, data_type = \"list\"):\n",
    "  \n",
    "  # If data_type is \"tuple\"\n",
    "  if data_type == \"tuple\":\n",
    "    data = tuple(data)\n",
    "  \n",
    "  # Else if data_type is set, convert to a set\n",
    "  elif data_type == \"set\":\n",
    "    data = set(data)\n",
    "  else:\n",
    "    data = list(data)\n",
    "  return data\n",
    "\n",
    "# Call the function to convert to a set\n",
    "convert_data_structure({\"a\", 1, \"b\", 2, \"c\", 3}, data_type=\"set\")"
   ]
  },
  {
   "cell_type": "code",
   "execution_count": 14,
   "id": "050df599-a085-4097-8212-dae9e7cf7275",
   "metadata": {},
   "outputs": [
    {
     "name": "stdout",
     "output_type": "stream",
     "text": [
      "Swap spaces to underscores and convert text to lowercase.\n"
     ]
    }
   ],
   "source": [
    "# The term dunder comes from \"double underscore\" — and __doc__ is one of many special attributes in Python surrounded by double underscores.\n",
    "\n",
    "# __doc__ is the docstring attribute of a function, class, or module.\n",
    "# It stores the string you write right after a function/class/module definition.\n",
    "\n",
    "# This is often used to explain what the function does.\n",
    "\n",
    "def clean_string(text):\n",
    "  \n",
    "  # Add a single-line docstring\n",
    "  \"\"\"Swap spaces to underscores and convert text to lowercase.\"\"\"\n",
    "  \n",
    "  no_spaces = text.replace(\" \", \"_\")\n",
    "  clean_text = no_spaces.lower()\n",
    "  return clean_text\n",
    "\n",
    "# Access the docstring\n",
    "print(clean_string.__doc__)"
   ]
  },
  {
   "cell_type": "code",
   "execution_count": 15,
   "id": "6d90b7c1-b807-4312-b1ec-9ee536db8f7f",
   "metadata": {},
   "outputs": [
    {
     "name": "stdout",
     "output_type": "stream",
     "text": [
      "Help on function convert_data_structure in module __main__:\n",
      "\n",
      "convert_data_structure(data, data_type='list')\n",
      "    Convert a data structure to a list, tuple, or set.\n",
      "\n",
      "    Args:\n",
      "          data (list, tuple, or set): A data structure to be converted.\n",
      "      data_type (str): String representing the type of structure to convert data to.\n",
      "\n",
      "    Returns:\n",
      "          data (list, tuple, or set): Converted data structure.\n",
      "\n",
      "None\n"
     ]
    }
   ],
   "source": [
    "# Create the convert_data_type function\n",
    "def convert_data_structure(data, data_type=\"list\"):\n",
    "  # Add a multi-line docstring\n",
    "  \"\"\"\n",
    "  Convert a data structure to a list, tuple, or set.\n",
    "  \n",
    "  Args:\n",
    "  \tdata (list, tuple, or set): A data structure to be converted.\n",
    "    data_type (str): String representing the type of structure to convert data to.\n",
    "    \n",
    "  Returns:\n",
    "  \tdata (list, tuple, or set): Converted data structure.\n",
    "  \"\"\"\n",
    "  if data_type == \"tuple\":\n",
    "    data = tuple(data)\n",
    "  elif data_type == \"set\":\n",
    "    data = set(data)\n",
    "  else:\n",
    "    data = list(data)\n",
    "  return data\n",
    "\n",
    "print(help(convert_data_structure))"
   ]
  },
  {
   "cell_type": "code",
   "execution_count": 16,
   "id": "b104113d-77fa-46a0-8008-31843feb405e",
   "metadata": {},
   "outputs": [
    {
     "name": "stdout",
     "output_type": "stream",
     "text": [
      " Python is great!\n"
     ]
    }
   ],
   "source": [
    "# Define a function called concat\n",
    "def concat(*args):\n",
    "  \n",
    "  # Create an empty string\n",
    "  result = \"\"\n",
    "  \n",
    "  # Iterate over the Python args tuple\n",
    "  for arg in args:\n",
    "    result += \" \" + arg\n",
    "  return result\n",
    "\n",
    "# Call the function\n",
    "print(concat(\"Python\", \"is\", \"great!\"))"
   ]
  },
  {
   "cell_type": "code",
   "execution_count": 17,
   "id": "e69a0467-f8c1-4c9d-99fb-ff0654157496",
   "metadata": {},
   "outputs": [
    {
     "name": "stdout",
     "output_type": "stream",
     "text": [
      " Python is great!\n"
     ]
    }
   ],
   "source": [
    "# Define a function called concat\n",
    "def concat(**kwargs):\n",
    "  \n",
    "  # Create an empty string\n",
    "  result = \"\"\n",
    "  \n",
    "  # Iterate over the Python kwargs\n",
    "  for kwarg in kwargs.values():\n",
    "    result += \" \" + kwarg\n",
    "  return result\n",
    "\n",
    "# Call the function\n",
    "print(concat(start=\"Python\", middle=\"is\", end=\"great!\"))"
   ]
  },
  {
   "cell_type": "code",
   "execution_count": 18,
   "id": "c4120ec5-15b4-425b-a412-39d8dce41a0a",
   "metadata": {},
   "outputs": [
    {
     "name": "stdout",
     "output_type": "stream",
     "text": [
      "[('Bob', 75), ('Alice', 88), ('Charlie', 95)]\n"
     ]
    }
   ],
   "source": [
    "students = [(\"Alice\", 88), (\"Bob\", 75), (\"Charlie\", 95)]\n",
    "\n",
    "# Sort by score using a lambda\n",
    "## This means:\n",
    "## For each element x in the list (each x is a tuple like (\"Alice\", 88)),\n",
    "## Use x[1] (the second item, i.e., the score) as the sorting key\n",
    "sorted_students = sorted(students, key=lambda x: x[1])\n",
    "\n",
    "print(sorted_students)"
   ]
  },
  {
   "cell_type": "code",
   "execution_count": 20,
   "id": "ce9d4e03-d4c7-451b-99e5-44f7b731a3af",
   "metadata": {},
   "outputs": [
    {
     "name": "stdout",
     "output_type": "stream",
     "text": [
      "<map object at 0x10baa4070>\n",
      "['John', 'Sally', 'Leah']\n"
     ]
    }
   ],
   "source": [
    "# lambda x: x.capitalize()\n",
    "## This is an anonymous function (no name) that takes one input x\n",
    "## x.capitalize() converts a string like \"john\" to \"John\"\n",
    "## map(...) takes two arguments:\n",
    "## 1.a function (in this case, the lambda)\n",
    "## 2.an iterable (in this case, names)\n",
    "## It applies the lambda function to each item in the list\n",
    "## [lambda(\"john\"), lambda(\"sally\"), lambda(\"leah\")]\n",
    "\n",
    "names = [\"john\", \"sally\", \"leah\"]\n",
    "\n",
    "# Apply a lambda function inside map()\n",
    "capitalize = map(lambda x: x.capitalize(), names)\n",
    "\n",
    "print(capitalize)\n",
    "print(list(capitalize))"
   ]
  },
  {
   "cell_type": "code",
   "execution_count": 21,
   "id": "bb84f30c-6136-4ebc-9892-2ff1655d81a0",
   "metadata": {},
   "outputs": [
    {
     "name": "stdout",
     "output_type": "stream",
     "text": [
      "35.988\n"
     ]
    }
   ],
   "source": [
    "sale_price = 29.99\n",
    "\n",
    "# Define a lambda function called add_tax\n",
    "add_tax = lambda x: x * 1.2\n",
    "\n",
    "# Call the lambda function\n",
    "print(add_tax((sale_price)))"
   ]
  },
  {
   "cell_type": "code",
   "execution_count": 22,
   "id": "3b6edd75-0eb2-41f3-bc1f-95a34efb40cd",
   "metadata": {},
   "outputs": [
    {
     "name": "stdout",
     "output_type": "stream",
     "text": [
      "35.988\n"
     ]
    }
   ],
   "source": [
    "# In a single line of code, make a lambda function that \n",
    "# multiplies sale_price by 1.2 and returns the results.\n",
    "sale_price = 29.99\n",
    "\n",
    "# Call a lambda function adding 20% to sale_price\n",
    "print((lambda x : x * 1.2)(sale_price))"
   ]
  },
  {
   "cell_type": "code",
   "execution_count": 23,
   "id": "25c76516-003d-4ffa-9806-9e56b1262a64",
   "metadata": {},
   "outputs": [
    {
     "name": "stdout",
     "output_type": "stream",
     "text": [
      "[35.988, 11.94, 17.4, 47.699999999999996, 72.0]\n"
     ]
    }
   ],
   "source": [
    "# Lambda functions with iterables\n",
    "\n",
    "sales_prices = [29.99, 9.95, 14.50, 39.75, 60.00]\n",
    "\n",
    "# Create add_taxes to add 20% to each item in sales_prices\n",
    "add_taxes = map(lambda x : x * 1.2, sales_prices)\n",
    "\n",
    "# Use add_taxes to return a new list with updated values\n",
    "print(list(add_taxes))"
   ]
  },
  {
   "cell_type": "code",
   "execution_count": 24,
   "id": "899444c0-0de0-4b8c-b9cd-052ac8facb41",
   "metadata": {},
   "outputs": [],
   "source": [
    "def snake_case(text):\n",
    "  # Attempt to clean the text\n",
    "  try:\n",
    "    # Swap spaces for underscores\n",
    "    clean_text = text.replace(\" \", \"_\")\n",
    "    clean_text = clean_text.lower()\n",
    "  # Run this code if an error occurs\n",
    "  except:\n",
    "    print(\"The snake_case() function expects a string as an argument, please check the data type provided.\")\n",
    "    \n",
    "snake_case(\"User Name 187\")"
   ]
  },
  {
   "cell_type": "code",
   "execution_count": 25,
   "id": "58c1649c-48a4-4a83-a1c6-97d3281e89c3",
   "metadata": {},
   "outputs": [],
   "source": [
    "def snake_case(text):\n",
    "  # Check the data type\n",
    "  if(type(text) == str):\n",
    "    clean_text = text.replace(\" \", \"_\")\n",
    "    clean_text = clean_text.lower()\n",
    "  else:\n",
    "    # Return a TypeError error if the wrong data type was used\n",
    "    raise TypeError(\"The snake_case() function expects a string as an argument, please check the data type provided.\")\n",
    "    \n",
    "snake_case(\"User Name 187\")"
   ]
  },
  {
   "cell_type": "code",
   "execution_count": null,
   "id": "63b41f34-51fb-4424-9345-8e1c0fdaffba",
   "metadata": {},
   "outputs": [],
   "source": []
  }
 ],
 "metadata": {
  "kernelspec": {
   "display_name": "Python 3 (ipykernel)",
   "language": "python",
   "name": "python3"
  },
  "language_info": {
   "codemirror_mode": {
    "name": "ipython",
    "version": 3
   },
   "file_extension": ".py",
   "mimetype": "text/x-python",
   "name": "python",
   "nbconvert_exporter": "python",
   "pygments_lexer": "ipython3",
   "version": "3.12.3"
  }
 },
 "nbformat": 4,
 "nbformat_minor": 5
}
