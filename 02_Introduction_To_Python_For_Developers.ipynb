{
 "cells": [
  {
   "cell_type": "code",
   "execution_count": 1,
   "id": "7aded8ce-e2b2-4255-8e84-8d03e1f865db",
   "metadata": {},
   "outputs": [
    {
     "name": "stdout",
     "output_type": "stream",
     "text": [
      "(325780, 1041, 4271599)\n"
     ]
    }
   ],
   "source": [
    "# Tuples:\n",
    "# Created with parentheses (), tuples are immutable collections that can hold any number of items.\n",
    "# They are ordered, allowing you to access elements by index.\n",
    "# Ideal for storing data that shouldn't be altered, like configuration settings or fixed data sets.\n",
    "\n",
    "# Create a tuple\n",
    "q3_financials = (325780, 1041, 4271599)\n",
    "\n",
    "# Print the tuple\n",
    "print(q3_financials)"
   ]
  },
  {
   "cell_type": "code",
   "execution_count": 1,
   "id": "d0fcc7db-b499-48fb-abb1-1d4ed24653a1",
   "metadata": {},
   "outputs": [
    {
     "name": "stdout",
     "output_type": "stream",
     "text": [
      "{'MGMT', 'Stereophonics', 'Kings of Leon'}\n",
      "{'50 Cent', 'JAY-Z', 'Drake'}\n"
     ]
    }
   ],
   "source": [
    "# Sets:\n",
    "# Defined by curly brackets {}, sets store unique elements, automatically removing duplicates.\n",
    "# They are mutable, allowing the addition or deletion of items, but individual elements cannot be changed.\n",
    "# Sets are unordered, meaning they do not support indexing or slicing.\n",
    "# Useful for fast searches and eliminating duplicates, sets can be sorted using the sorted() function, which returns a list.\n",
    "\n",
    "hip_hop = [\"Drake\", \"JAY-Z\", \"50 Cent\", \"Drake\"]\n",
    "\n",
    "# Create a set\n",
    "indie_set = {\"Kings of Leon\", \"MGMT\", \"Stereophonics\"}\n",
    "\n",
    "# Convert hip_hop to a set\n",
    "hip_hop_set = set(hip_hop)\n",
    "\n",
    "# Print the indie and hip_hop sets\n",
    "print(indie_set)\n",
    "print(hip_hop_set)"
   ]
  },
  {
   "cell_type": "code",
   "execution_count": 2,
   "id": "5c1622d6-47ae-4ada-bf80-bab27038e56e",
   "metadata": {},
   "outputs": [
    {
     "name": "stdout",
     "output_type": "stream",
     "text": [
      "Inflation increased\n"
     ]
    }
   ],
   "source": [
    "inflation_september = 2.0\n",
    "inflation_august = 1.8\n",
    "# Check if September inflation is less than August inflation\n",
    "if inflation_september < inflation_august:\n",
    "  print(\"Inflation decreased\")\n",
    "\n",
    "# Check if September inflation is more than August inflation\n",
    "elif inflation_september > inflation_august:\n",
    "  print(\"Inflation increased\")\n",
    "  \n",
    "# Confirm that they are equal\n",
    "else:\n",
    "  print(\"Inflation remained stable\")"
   ]
  },
  {
   "cell_type": "code",
   "execution_count": 5,
   "id": "ae7aab5b-6049-45af-a749-aa53987f0363",
   "metadata": {},
   "outputs": [
    {
     "name": "stdout",
     "output_type": "stream",
     "text": [
      "This looks promising!\n"
     ]
    }
   ],
   "source": [
    "# Requirements\n",
    "min_num_beds = 2\n",
    "min_sq_foot = 750\n",
    "max_rent = 1900\n",
    "\n",
    "# Actual conditions\n",
    "num_beds = 3\n",
    "sq_foot = 800\n",
    "rent = 1850\n",
    "\n",
    "# Check the number of beds\n",
    "if num_beds < min_num_beds:\n",
    "  print(\"Insufficient bedrooms\")\n",
    "\n",
    "# Check square feet\n",
    "elif sq_foot <= min_sq_foot:\n",
    "  print(\"Too small\")\n",
    "  \n",
    "# Check the rent\n",
    "elif rent > max_rent:\n",
    "  print(\"Too expensive\")\n",
    "  \n",
    "# If all conditions met\n",
    "else:\n",
    "  print(\"This looks promising!\")"
   ]
  },
  {
   "cell_type": "code",
   "execution_count": 6,
   "id": "9e6712f7-3985-4071-bc5a-a941b86d66ac",
   "metadata": {},
   "outputs": [
    {
     "name": "stdout",
     "output_type": "stream",
     "text": [
      "T42YG4KTK\n",
      "VTQ39IDQ0\n",
      "CRL11YUWX\n",
      "K6Y5URXLR\n",
      "V4XCBER7V\n",
      "IOGQWC61K\n"
     ]
    }
   ],
   "source": [
    "user_ids = [\"T42YG4KTK\", \"VTQ39IDQ0\", \"CRL11YUWX\", \n",
    "            \"K6Y5URXLR\", \"V4XCBER7V\", \"IOGQWC61K\"]\n",
    "\n",
    "# Loop through user_ids\n",
    "for user_id in user_ids:\n",
    "  # Print the user_id\n",
    "  print(user_id)"
   ]
  },
  {
   "cell_type": "code",
   "execution_count": 7,
   "id": "b1712a7e-30f6-4b4b-9f07-2d5cc0637cc0",
   "metadata": {},
   "outputs": [
    {
     "name": "stdout",
     "output_type": "stream",
     "text": [
      "Sold out: 30 tickets sold!\n"
     ]
    }
   ],
   "source": [
    "# Create the tickets_sold variable\n",
    "tickets_sold = 0\n",
    "\n",
    "# Create the max_capacity variable\n",
    "max_capacity = 30\n",
    "\n",
    "# Loop through a range up to and including max_capacity's value\n",
    "for i in range(1, max_capacity+1):\n",
    "  \n",
    "  # Add one to tickets_sold in each iteration\n",
    "  tickets_sold += 1\n",
    "  \n",
    "print(\"Sold out:\", tickets_sold, \"tickets sold!\")"
   ]
  },
  {
   "cell_type": "code",
   "execution_count": 10,
   "id": "b9054dbc-1ed6-483c-a4a3-cbc70b2e2b39",
   "metadata": {},
   "outputs": [
    {
     "name": "stdout",
     "output_type": "stream",
     "text": [
      "LLM Concepts is an AI course\n",
      "Introduction to Data Pipelines is a Data Engineering course\n",
      "AI Ethics is an AI course\n",
      "Introduction to dbt is a Data Engineering course\n",
      "Writing Efficient Python Code is a Programming course\n",
      "Introduction to Docker is a Programming course\n"
     ]
    }
   ],
   "source": [
    "# dictionary\n",
    "courses = {\"LLM Concepts\": \"AI\", \n",
    "           \"Introduction to Data Pipelines\": \"Data Engineering\", \n",
    "           \"AI Ethics\": \"AI\",\n",
    "           \"Introduction to dbt\": \"Data Engineering\", \n",
    "           \"Writing Efficient Python Code\": \"Programming\",\n",
    "           \"Introduction to Docker\": \"Programming\"}\n",
    "# Loop through the dictionary's keys and values\n",
    "for key, value in courses.items():\n",
    "  \n",
    "  # Check if the value is \"AI\"\n",
    "  if value == \"AI\":\n",
    "    print(key, \"is an AI course\")\n",
    "  \n",
    "  # Check if the value is \"Programming\"\n",
    "  elif value == \"Programming\":\n",
    "    print(key, \"is a Programming course\")\n",
    "  \n",
    "  # Otherwise, print that it is a \"Data Engineering\" course\n",
    "  else:\n",
    "    print(key, \"is a Data Engineering course\")"
   ]
  },
  {
   "cell_type": "code",
   "execution_count": 11,
   "id": "585d7b1f-e968-437f-ab7b-3307628cacf6",
   "metadata": {},
   "outputs": [
    {
     "name": "stdout",
     "output_type": "stream",
     "text": [
      "Sold out: 10 tickets sold!\n"
     ]
    }
   ],
   "source": [
    "tickets_sold = 0\n",
    "max_capacity = 10\n",
    "\n",
    "# Create a while loop\n",
    "while tickets_sold < max_capacity:\n",
    "  \n",
    "  # Add one to tickets_sold in each iteration\n",
    "  tickets_sold += 1\n",
    "\n",
    "# Print the number of tickets sold\n",
    "print(\"Sold out:\", tickets_sold, \"tickets sold!\")"
   ]
  },
  {
   "cell_type": "code",
   "execution_count": 12,
   "id": "ef13feea-2afc-42a2-9c84-5716e7a4b36c",
   "metadata": {},
   "outputs": [
    {
     "name": "stdout",
     "output_type": "stream",
     "text": [
      "Purchase before the 25th for early access\n",
      "Purchase before the 25th for early access\n",
      "Purchase before the 25th for early access\n",
      "Coming soon!\n",
      "Available now!\n"
     ]
    }
   ],
   "source": [
    "release_date = 26\n",
    "current_date = 22\n",
    "\n",
    "# Create a conditional loop while current_date is less than or equal to the release_date\n",
    "while current_date <= release_date:\n",
    "  \n",
    "  # Promote purchases\n",
    "  if(current_date <= 24):\n",
    "    print(\"Purchase before the 25th for early access\")\n",
    "  \n",
    "  # Check if the date is equal to the 25th\n",
    "  elif current_date == 25:\n",
    "    print(\"Coming soon!\")\n",
    "  else:\n",
    "    print(\"Available now!\")\n",
    "  \n",
    "  # Increment current_date by one\n",
    "  current_date += 1"
   ]
  },
  {
   "cell_type": "code",
   "execution_count": null,
   "id": "1cf1850a-25fa-43d8-8844-383736c65987",
   "metadata": {},
   "outputs": [],
   "source": []
  }
 ],
 "metadata": {
  "kernelspec": {
   "display_name": "Python 3 (ipykernel)",
   "language": "python",
   "name": "python3"
  },
  "language_info": {
   "codemirror_mode": {
    "name": "ipython",
    "version": 3
   },
   "file_extension": ".py",
   "mimetype": "text/x-python",
   "name": "python",
   "nbconvert_exporter": "python",
   "pygments_lexer": "ipython3",
   "version": "3.12.3"
  }
 },
 "nbformat": 4,
 "nbformat_minor": 5
}
